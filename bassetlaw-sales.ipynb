{
 "cells": [
  {
   "cell_type": "code",
   "execution_count": 1,
   "metadata": {},
   "outputs": [
    {
     "name": "stdout",
     "output_type": "stream",
     "text": [
      "Requirement already satisfied: numpy in /Library/Frameworks/Python.framework/Versions/3.9/lib/python3.9/site-packages (1.22.1)\n",
      "\u001b[33mWARNING: You are using pip version 21.2.4; however, version 22.0.3 is available.\n",
      "You should consider upgrading via the '/Library/Frameworks/Python.framework/Versions/3.9/bin/python3.9 -m pip install --upgrade pip' command.\u001b[0m\n",
      "/bin/bash: pip: command not found\n",
      "Requirement already satisfied: petl in /Library/Frameworks/Python.framework/Versions/3.9/lib/python3.9/site-packages (1.7.8)\n",
      "\u001b[33mWARNING: You are using pip version 21.2.4; however, version 22.0.3 is available.\n",
      "You should consider upgrading via the '/Library/Frameworks/Python.framework/Versions/3.9/bin/python3.9 -m pip install --upgrade pip' command.\u001b[0m\n"
     ]
    }
   ],
   "source": [
    "! pip3 install numpy\n",
    "! pip install pandas\n",
    "! pip3 install petl\n"
   ]
  },
  {
   "cell_type": "code",
   "execution_count": 2,
   "metadata": {},
   "outputs": [],
   "source": [
    "import numpy as np\n",
    "import pandas as pd\n",
    "import petl as etl\n"
   ]
  },
  {
   "cell_type": "code",
   "execution_count": 5,
   "metadata": {},
   "outputs": [
    {
     "name": "stderr",
     "output_type": "stream",
     "text": [
      "/var/folders/46/d6y3j52n45d49c28f7pxx9v00000gn/T/ipykernel_30816/1476093167.py:1: DtypeWarning: Columns (6) have mixed types. Specify dtype option on import or set low_memory=False.\n",
      "  bassetlaw_df = pd.read_csv(\"2010-2020_Bassetlaw_outlet.csv\")\n"
     ]
    },
    {
     "data": {
      "text/html": [
       "<div>\n",
       "<style scoped>\n",
       "    .dataframe tbody tr th:only-of-type {\n",
       "        vertical-align: middle;\n",
       "    }\n",
       "\n",
       "    .dataframe tbody tr th {\n",
       "        vertical-align: top;\n",
       "    }\n",
       "\n",
       "    .dataframe thead th {\n",
       "        text-align: right;\n",
       "    }\n",
       "</style>\n",
       "<table border=\"1\" class=\"dataframe\">\n",
       "  <thead>\n",
       "    <tr style=\"text-align: right;\">\n",
       "      <th></th>\n",
       "      <th>year</th>\n",
       "      <th>month</th>\n",
       "      <th>day</th>\n",
       "      <th>hour</th>\n",
       "      <th>sku</th>\n",
       "      <th>quantity_purchased</th>\n",
       "      <th>amount_in_gbp</th>\n",
       "    </tr>\n",
       "  </thead>\n",
       "  <tbody>\n",
       "    <tr>\n",
       "      <th>0</th>\n",
       "      <td>2010</td>\n",
       "      <td>1</td>\n",
       "      <td>9</td>\n",
       "      <td>0</td>\n",
       "      <td>chocolate twist</td>\n",
       "      <td>182</td>\n",
       "      <td>145.6</td>\n",
       "    </tr>\n",
       "    <tr>\n",
       "      <th>1</th>\n",
       "      <td>2010</td>\n",
       "      <td>1</td>\n",
       "      <td>9</td>\n",
       "      <td>0</td>\n",
       "      <td>plastic sunshades</td>\n",
       "      <td>98</td>\n",
       "      <td>313.6</td>\n",
       "    </tr>\n",
       "    <tr>\n",
       "      <th>2</th>\n",
       "      <td>2010</td>\n",
       "      <td>1</td>\n",
       "      <td>9</td>\n",
       "      <td>0</td>\n",
       "      <td>lg washing machine</td>\n",
       "      <td>151</td>\n",
       "      <td>12080.0</td>\n",
       "    </tr>\n",
       "    <tr>\n",
       "      <th>3</th>\n",
       "      <td>2010</td>\n",
       "      <td>1</td>\n",
       "      <td>9</td>\n",
       "      <td>0</td>\n",
       "      <td>fresh whole chicken</td>\n",
       "      <td>230</td>\n",
       "      <td>257.6</td>\n",
       "    </tr>\n",
       "    <tr>\n",
       "      <th>4</th>\n",
       "      <td>2010</td>\n",
       "      <td>1</td>\n",
       "      <td>9</td>\n",
       "      <td>0</td>\n",
       "      <td>free range large eggs x12</td>\n",
       "      <td>150</td>\n",
       "      <td>180.0</td>\n",
       "    </tr>\n",
       "    <tr>\n",
       "      <th>...</th>\n",
       "      <td>...</td>\n",
       "      <td>...</td>\n",
       "      <td>...</td>\n",
       "      <td>...</td>\n",
       "      <td>...</td>\n",
       "      <td>...</td>\n",
       "      <td>...</td>\n",
       "    </tr>\n",
       "    <tr>\n",
       "      <th>1218694</th>\n",
       "      <td>2013</td>\n",
       "      <td>12</td>\n",
       "      <td>24</td>\n",
       "      <td>23</td>\n",
       "      <td>Lemon</td>\n",
       "      <td>156</td>\n",
       "      <td>37.44</td>\n",
       "    </tr>\n",
       "    <tr>\n",
       "      <th>1218695</th>\n",
       "      <td>2013</td>\n",
       "      <td>12</td>\n",
       "      <td>24</td>\n",
       "      <td>23</td>\n",
       "      <td>apple macbook air mid 2009</td>\n",
       "      <td>226</td>\n",
       "      <td>343520.0</td>\n",
       "    </tr>\n",
       "    <tr>\n",
       "      <th>1218696</th>\n",
       "      <td>2013</td>\n",
       "      <td>12</td>\n",
       "      <td>24</td>\n",
       "      <td>23</td>\n",
       "      <td>Organic mILK</td>\n",
       "      <td>234</td>\n",
       "      <td>280.80000000000007</td>\n",
       "    </tr>\n",
       "    <tr>\n",
       "      <th>1218697</th>\n",
       "      <td>2013</td>\n",
       "      <td>12</td>\n",
       "      <td>24</td>\n",
       "      <td>23</td>\n",
       "      <td>British baking potatoes loose</td>\n",
       "      <td>76</td>\n",
       "      <td>50.464000000000006</td>\n",
       "    </tr>\n",
       "    <tr>\n",
       "      <th>1218698</th>\n",
       "      <td>2013</td>\n",
       "      <td>12</td>\n",
       "      <td>24</td>\n",
       "      <td>23</td>\n",
       "      <td>hotpoint washing machine</td>\n",
       "      <td>222</td>\n",
       "      <td>14208.0</td>\n",
       "    </tr>\n",
       "  </tbody>\n",
       "</table>\n",
       "<p>1218699 rows × 7 columns</p>\n",
       "</div>"
      ],
      "text/plain": [
       "         year  month  day  hour                            sku  \\\n",
       "0        2010      1    9     0                chocolate twist   \n",
       "1        2010      1    9     0              plastic sunshades   \n",
       "2        2010      1    9     0             lg washing machine   \n",
       "3        2010      1    9     0            fresh whole chicken   \n",
       "4        2010      1    9     0      free range large eggs x12   \n",
       "...       ...    ...  ...   ...                            ...   \n",
       "1218694  2013     12   24    23                          Lemon   \n",
       "1218695  2013     12   24    23     apple macbook air mid 2009   \n",
       "1218696  2013     12   24    23                   Organic mILK   \n",
       "1218697  2013     12   24    23  British baking potatoes loose   \n",
       "1218698  2013     12   24    23       hotpoint washing machine   \n",
       "\n",
       "        quantity_purchased       amount_in_gbp  \n",
       "0                      182               145.6  \n",
       "1                       98               313.6  \n",
       "2                      151             12080.0  \n",
       "3                      230               257.6  \n",
       "4                      150               180.0  \n",
       "...                    ...                 ...  \n",
       "1218694                156               37.44  \n",
       "1218695                226            343520.0  \n",
       "1218696                234  280.80000000000007  \n",
       "1218697                 76  50.464000000000006  \n",
       "1218698                222             14208.0  \n",
       "\n",
       "[1218699 rows x 7 columns]"
      ]
     },
     "execution_count": 5,
     "metadata": {},
     "output_type": "execute_result"
    }
   ],
   "source": [
    "bassetlaw_df = pd.read_csv(\"2010-2020_Bassetlaw_outlet.csv\")\n",
    "bassetlaw_df"
   ]
  },
  {
   "cell_type": "code",
   "execution_count": 4,
   "metadata": {},
   "outputs": [
    {
     "data": {
      "text/plain": [
       "True"
      ]
     },
     "execution_count": 4,
     "metadata": {},
     "output_type": "execute_result"
    }
   ],
   "source": [
    "\n",
    "# This below is how to check if something contains a number. Need to check this with the columns \n",
    "# with numbers to make sure that they don't contain any values that aren't numbers\n",
    "sentence = '34'\n",
    "sentence.isnumeric()\n",
    "\n",
    "# need to check everything that could go wrong eg. month is it below 1 or above 12. Day is it below 1 or above 31, \n",
    "\n",
    "\n",
    "# select in etl -- used for filtering date to select data that mathces condition.\n",
    "\n"
   ]
  }
 ],
 "metadata": {
  "interpreter": {
   "hash": "aee8b7b246df8f9039afb4144a1f6fd8d2ca17a180786b69acc140d282b71a49"
  },
  "kernelspec": {
   "display_name": "Python 3.9.10 64-bit",
   "name": "python3"
  },
  "language_info": {
   "codemirror_mode": {
    "name": "ipython",
    "version": 3
   },
   "file_extension": ".py",
   "mimetype": "text/x-python",
   "name": "python",
   "nbconvert_exporter": "python",
   "pygments_lexer": "ipython3",
   "version": "3.9.10"
  },
  "orig_nbformat": 4
 },
 "nbformat": 4,
 "nbformat_minor": 2
}
